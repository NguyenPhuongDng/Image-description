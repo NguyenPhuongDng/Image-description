{
 "cells": [
  {
   "cell_type": "markdown",
   "metadata": {},
   "source": [
    "Import thư viện"
   ]
  },
  {
   "cell_type": "code",
   "execution_count": 16,
   "metadata": {},
   "outputs": [],
   "source": [
    "import torch\n",
    "import torch.nn as nn\n",
    "from torchvision import datasets\n",
    "import torch.optim as optim\n",
    "from torch.utils.data import DataLoader\n",
    "from torchvision import transforms\n",
    "from torchvision.datasets import ImageFolder\n",
    "from torchvision.datasets.utils import download_url\n",
    "import os\n",
    "import tarfile\n",
    "import matplotlib.pyplot as plt\n",
    "import numpy as np\n"
   ]
  },
  {
   "cell_type": "markdown",
   "metadata": {},
   "source": [
    "Tải dữ liệu"
   ]
  },
  {
   "cell_type": "code",
   "execution_count": 17,
   "metadata": {},
   "outputs": [],
   "source": [
    "#dataset_url = \"https://s3.amazonaws.com/fast-ai-imageclas/cifar10.tgz\"\n",
    "##with tarfile.open('./cifar10.tgz', 'r:gz') as tar:\n",
    "    #tar.extractall(path='./data_encoder')\n",
    "\n",
    "train_ds=datasets.CIFAR10(root='../Deep-Learning-Models/data/cifar10',train= True, transform=transforms.ToTensor())\n",
    "test_ds=datasets.CIFAR10(root='../Deep-Learning-Models/data/cifar10',train= False, transform=transforms.ToTensor())\n",
    "\n",
    "batch_size=128\n",
    "train_loader=DataLoader(train_ds,batch_size=batch_size,shuffle=True)\n",
    "test_loader=DataLoader(test_ds,batch_size=batch_size,shuffle=False)"
   ]
  },
  {
   "cell_type": "markdown",
   "metadata": {},
   "source": [
    "Sử dụng GPU"
   ]
  },
  {
   "cell_type": "code",
   "execution_count": 18,
   "metadata": {},
   "outputs": [],
   "source": [
    "device=torch.device('cuda' if torch.cuda.is_available() else 'cpu')"
   ]
  },
  {
   "cell_type": "code",
   "execution_count": 19,
   "metadata": {},
   "outputs": [],
   "source": [
    "def ConvLayer(inp, out, ks=3, s=1, p=1):\n",
    "    return nn.Conv2d(inp,out,kernel_size=ks,stride=s,padding=p)\n",
    "class CNN(nn.Module):\n",
    "    def __init__(self):\n",
    "        super().__init__()\n",
    "        self.neural_net = nn.Sequential (\n",
    "            ConvLayer(3, 32), nn.ReLU(),\n",
    "            ConvLayer(32, 64), nn.ReLU(),\n",
    "            nn.MaxPool2d(2, 2),\n",
    "            ConvLayer(64, 128), nn.ReLU(),\n",
    "            ConvLayer(128, 256), nn.ReLU(),\n",
    "            nn.MaxPool2d(2, 2),\n",
    "            ConvLayer(256, 512), nn.ReLU(),\n",
    "            ConvLayer(512, 1024), nn.ReLU(),\n",
    "            nn.MaxPool2d(2, 2),\n",
    "            nn.Flatten(),\n",
    "            nn.Linear(1024*4*4, 1024), nn.ReLU(),\n",
    "            nn.Linear(1024, 512), nn.ReLU(),\n",
    "            nn.Linear(512, 10),\n",
    "    )\n",
    "    def forward(self, x):\n",
    "        return self.neural_net(x)\n",
    "model = CNN().to(device)"
   ]
  },
  {
   "cell_type": "markdown",
   "metadata": {},
   "source": [
    "Hàm đánh giá"
   ]
  },
  {
   "cell_type": "code",
   "execution_count": 20,
   "metadata": {},
   "outputs": [],
   "source": [
    "def accurate_score(out, labels):\n",
    "    _, preds = torch.max(out, dim=1)\n",
    "    correct_preds = torch.sum(preds == labels).item()\n",
    "    total_preds = len(preds)\n",
    "    accuracy = torch.tensor(correct_preds / total_preds)\n",
    "    return accuracy"
   ]
  },
  {
   "cell_type": "markdown",
   "metadata": {},
   "source": [
    "Training model"
   ]
  },
  {
   "cell_type": "code",
   "execution_count": 21,
   "metadata": {},
   "outputs": [
    {
     "name": "stdout",
     "output_type": "stream",
     "text": [
      "Epoch Number:  0 Testing Accuracy Score:  tensor(0.4424)\n",
      "Epoch Number:  1 Testing Accuracy Score:  tensor(0.5547)\n",
      "Epoch Number:  2 Testing Accuracy Score:  tensor(0.6261)\n",
      "Epoch Number:  3 Testing Accuracy Score:  tensor(0.6539)\n",
      "Epoch Number:  4 Testing Accuracy Score:  tensor(0.6610)\n",
      "Epoch Number:  5 Testing Accuracy Score:  tensor(0.6942)\n",
      "Epoch Number:  6 Testing Accuracy Score:  tensor(0.6947)\n",
      "Epoch Number:  7 Testing Accuracy Score:  tensor(0.6967)\n",
      "Epoch Number:  8 Testing Accuracy Score:  tensor(0.6987)\n",
      "Epoch Number:  9 Testing Accuracy Score:  tensor(0.6967)\n",
      "Epoch Number:  10 Testing Accuracy Score:  tensor(0.7048)\n",
      "Epoch Number:  11 Testing Accuracy Score:  tensor(0.7028)\n",
      "Epoch Number:  12 Testing Accuracy Score:  tensor(0.6987)\n",
      "Epoch Number:  13 Testing Accuracy Score:  tensor(0.6919)\n",
      "Epoch Number:  14 Testing Accuracy Score:  tensor(0.7034)\n"
     ]
    }
   ],
   "source": [
    "num_epochs = 15\n",
    "learning_rate = 0.003\n",
    "loss_func= nn.CrossEntropyLoss()\n",
    "optimizer = torch.optim.Adam(model.parameters(), lr=learning_rate)\n",
    "\n",
    "for epoch in range(num_epochs):\n",
    "    total_testing_accuracies = []\n",
    "    for img, labels in train_loader:\n",
    "        img =img.to(device)\n",
    "        labels = labels.to(device)\n",
    "        pred = model(img)\n",
    "        loss = loss_func(pred, labels)\n",
    "        loss.backward()\n",
    "        optimizer.step()\n",
    "        optimizer.zero_grad()\n",
    "    for test_img, test_labels in test_loader:\n",
    "        test_img = test_img.to(device)\n",
    "        test_labels = test_labels.to(device)\n",
    "        test_pred = model(test_img)\n",
    "        metrics = accurate_score(test_pred, test_labels)\n",
    "        total_testing_accuracies.append(metrics)\n",
    "    print(\"Epoch Number: \", epoch, \"Testing Accuracy Score: \", sum(total_testing_accuracies)/len(total_testing_accuracies))"
   ]
  },
  {
   "cell_type": "markdown",
   "metadata": {},
   "source": [
    "Lưu mô hình"
   ]
  },
  {
   "cell_type": "code",
   "execution_count": 22,
   "metadata": {},
   "outputs": [],
   "source": [
    "torch.save(model.state_dict(), 'CNN.pth')"
   ]
  },
  {
   "cell_type": "code",
   "execution_count": 23,
   "metadata": {},
   "outputs": [
    {
     "name": "stdout",
     "output_type": "stream",
     "text": [
      "<class 'collections.OrderedDict'>\n"
     ]
    },
    {
     "name": "stderr",
     "output_type": "stream",
     "text": [
      "C:\\Users\\admin\\AppData\\Local\\Temp\\ipykernel_6960\\4243783952.py:1: FutureWarning: You are using `torch.load` with `weights_only=False` (the current default value), which uses the default pickle module implicitly. It is possible to construct malicious pickle data which will execute arbitrary code during unpickling (See https://github.com/pytorch/pytorch/blob/main/SECURITY.md#untrusted-models for more details). In a future release, the default value for `weights_only` will be flipped to `True`. This limits the functions that could be executed during unpickling. Arbitrary objects will no longer be allowed to be loaded via this mode unless they are explicitly allowlisted by the user via `torch.serialization.add_safe_globals`. We recommend you start setting `weights_only=True` for any use case where you don't have full control of the loaded file. Please open an issue on GitHub for any issues related to this experimental feature.\n",
      "  state_dict = torch.load(\"./CNN.pth\")\n"
     ]
    }
   ],
   "source": [
    "state_dict = torch.load(\"./CNN.pth\")\n",
    "print(type(state_dict))"
   ]
  }
 ],
 "metadata": {
  "kernelspec": {
   "display_name": "Python 3",
   "language": "python",
   "name": "python3"
  },
  "language_info": {
   "codemirror_mode": {
    "name": "ipython",
    "version": 3
   },
   "file_extension": ".py",
   "mimetype": "text/x-python",
   "name": "python",
   "nbconvert_exporter": "python",
   "pygments_lexer": "ipython3",
   "version": "3.11.8"
  }
 },
 "nbformat": 4,
 "nbformat_minor": 2
}
